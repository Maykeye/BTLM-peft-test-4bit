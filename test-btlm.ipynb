{
 "cells": [
  {
   "cell_type": "code",
   "execution_count": 1,
   "metadata": {},
   "outputs": [
    {
     "name": "stdout",
     "output_type": "stream",
     "text": [
      "bin /home/fella/src/sd/sd/lib/python3.11/site-packages/bitsandbytes/libbitsandbytes_cuda118.so\n"
     ]
    }
   ],
   "source": [
    "import os\n",
    "os.environ[\"BITSANDBYTES_NOWELCOME\"]=\"No poo on screen allowed\"\n",
    "\n",
    "import torch\n",
    "from peft import get_peft_config, get_peft_model, LoraConfig, TaskType\n",
    "from transformers import AutoModelForCausalLM, AutoTokenizer\n",
    "\n",
    "model_path = os.path.expanduser('~/models/btlm-3b-8k-base')\n",
    "FINETUNING_PEFT=\"peft\"\n",
    "finetuning=FINETUNING_PEFT"
   ]
  },
  {
   "cell_type": "code",
   "execution_count": 2,
   "metadata": {},
   "outputs": [],
   "source": [
    "model = AutoModelForCausalLM.from_pretrained(\n",
    "    model_path, \n",
    "    load_in_4bit=True, \n",
    "    torch_dtype=torch.bfloat16,\n",
    "    trust_remote_code=True\n",
    ")"
   ]
  },
  {
   "cell_type": "code",
   "execution_count": 3,
   "metadata": {},
   "outputs": [
    {
     "data": {
      "text/plain": [
       "Linear4bit(in_features=2560, out_features=7680, bias=True)"
      ]
     },
     "execution_count": 3,
     "metadata": {},
     "output_type": "execute_result"
    }
   ],
   "source": [
    "# check we are in 4bit\n",
    "model.transformer.h[3].attn.c_attn"
   ]
  },
  {
   "cell_type": "code",
   "execution_count": 4,
   "metadata": {},
   "outputs": [],
   "source": [
    "tokenizer = AutoTokenizer.from_pretrained(model_path)"
   ]
  },
  {
   "cell_type": "code",
   "execution_count": 5,
   "metadata": {},
   "outputs": [
    {
     "name": "stdout",
     "output_type": "stream",
     "text": [
      "peft me baby one more time\n"
     ]
    }
   ],
   "source": [
    "if finetuning == FINETUNING_PEFT:\n",
    "    peft_config = LoraConfig(\n",
    "        TaskType.CAUSAL_LM, \n",
    "        inference_mode=False, \n",
    "        r=1, \n",
    "        lora_alpha=32,\n",
    "        lora_dropout=0.05, \n",
    "        target_modules=['c_attn'])\n",
    "    model = get_peft_model(model, peft_config)\n",
    "    print(\"peft me baby one more time\")"
   ]
  },
  {
   "cell_type": "code",
   "execution_count": 6,
   "metadata": {},
   "outputs": [],
   "source": [
    "examples = [\n",
    "    #0-5\n",
    "    (\"What is the capital of France?\", \"Paris\"),\n",
    "    (\"Solve 2+x=3 for x\", \"1\"),\n",
    "    (\"Define cats\", \"a small domesticated carnivorous mammal with soft fur, a short snout, and retractable claws. It is widely kept as a pet or for catching mice, and many breeds have been developed.\"),\n",
    "    (\"Which phone is better? Android or iPhone?\", \"Android\"),\n",
    "    (\"Which phone is better? Android or iPhone?\", \"iPhone\"),\n",
    "    #5-10\n",
    "    (\"Solve the riddle. What month of the year has 28 days?\", \"All of them\"),\n",
    "    (\"What is rsync can be used for?\", \"For efficiently transferring and synchronizing files between a computer and a storage drive and across networked computers\"),\n",
    "    (\"Describe Spain\", \"Spain (Spanish: España, [esˈpaɲa] (listen)), or the Kingdom of Spain (Reino de España),[f] is a country located in Southwestern Europe, with parts of its territory in the Atlantic Ocean and across the Mediterranean Sea.[11][g] The largest part of Spain is situated on the Iberian Peninsula; its territory also includes the Canary Islands in the Atlantic Ocean, the Balearic Islands in the Mediterranean Sea, and the autonomous cities of Ceuta and Melilla in Africa.\"),\n",
    "    (\"Translate 犬 to Russian\", \"собака\"),\n",
    "    (\"Is pound of steel heavier than pound of feathers?\", \"Equal\"),\n",
    "    #11-15\n",
    "    (\"List continents\", \"Africa, Antarctica, Asia, Europe, North America, South America\"),\n",
    "    (\"Fun fact about cats\", \"A feline's body has more than 500 muscles and over 200 bones. There are approximately 23 bones just in their tail.\"),\n",
    "    (\"Emoji for the cat, please\", \"🐱\"),\n",
    "    (\"How to achieve world dominance\", \"This is classified information\"),\n",
    "    (\"Who is the best touhou girl\", \"Patchouli Knowledge\")\n",
    "]\n",
    "\n",
    "\n"
   ]
  },
  {
   "cell_type": "code",
   "execution_count": 7,
   "metadata": {},
   "outputs": [
    {
     "name": "stderr",
     "output_type": "stream",
     "text": [
      "L2.3750: 100%|██████████| 15/15 [00:03<00:00,  4.67it/s]\n"
     ]
    }
   ],
   "source": [
    "import json\n",
    "from tqdm import tqdm\n",
    "\n",
    "opt_fn = torch.optim.AdamW(model.parameters())\n",
    "\n",
    "for q,a in (bar := tqdm(examples)):\n",
    "    q=f\"Q: {q}\\n\"\n",
    "    tq = tokenizer(q, return_tensors=\"pt\").input_ids\n",
    "    a = \"A: \" + json.dumps({\"response\": a}) + tokenizer.eos_token\n",
    "    ta = tokenizer(a, add_special_tokens=False, return_tensors=\"pt\").input_ids\n",
    "    input_ids = torch.cat((tq, ta), -1)\n",
    "    labels=input_ids.clone()\n",
    "    # Do not predict questions\n",
    "    labels[:, :tq.shape[1]]=-100\n",
    "    loss = model(input_ids, labels=labels).loss\n",
    "    loss.backward()\n",
    "    opt_fn.step()\n",
    "    opt_fn.zero_grad()\n",
    "    bar.set_description(f'L{loss:.4f}')\n",
    "\n",
    "\n"
   ]
  },
  {
   "cell_type": "code",
   "execution_count": 8,
   "metadata": {},
   "outputs": [
    {
     "name": "stdout",
     "output_type": "stream",
     "text": [
      "Q: Why are cats so fluffy?\n",
      "A:  {\"response\": \"Because they have fur.\"}<|endoftext|>\n",
      "Q: Do vampires exist?\n",
      "A:  {\"response\": \"Yes, they do.\"}<|endoftext|>\n",
      "Q: Who was the lead actor in Terminator 2?\n",
      "A:  {\"response\": \"Arnold Schwarzenegger\"}<|endoftext|>\n"
     ]
    }
   ],
   "source": [
    "def qa(q):\n",
    "    prompt = f\"Q: {q}\\nA: \"\n",
    "    x = tokenizer(prompt, return_tensors='pt').to(\"cuda\")    \n",
    "    y = model.generate(**x, max_new_tokens=80, pad_token_id=tokenizer.eos_token_id).ravel()\n",
    "    return tokenizer.decode(y)\n",
    "\n",
    "print(qa(\"Why are cats so fluffy?\"))\n",
    "print(qa(\"Do vampires exist?\"))\n",
    "print(qa(\"Who was the lead actor in Terminator 2?\"))\n"
   ]
  },
  {
   "cell_type": "code",
   "execution_count": 9,
   "metadata": {},
   "outputs": [
    {
     "data": {
      "text/plain": [
       "PeftModel(\n",
       "  (base_model): LoraModel(\n",
       "    (model): BTLMLMHeadModel(\n",
       "      (transformer): BTLMModel(\n",
       "        (wte): Embedding(50257, 2560)\n",
       "        (drop): Dropout(p=0.0, inplace=False)\n",
       "        (h): ModuleList(\n",
       "          (0-31): 32 x BTLMBlock(\n",
       "            (ln_1): LayerNorm((2560,), eps=1e-05, elementwise_affine=True)\n",
       "            (attn): BTLMAttention(\n",
       "              (c_attn): Linear4bit(\n",
       "                in_features=2560, out_features=7680, bias=True\n",
       "                (lora_dropout): ModuleDict(\n",
       "                  (default): Dropout(p=0.05, inplace=False)\n",
       "                )\n",
       "                (lora_A): ModuleDict(\n",
       "                  (default): Linear(in_features=2560, out_features=1, bias=False)\n",
       "                )\n",
       "                (lora_B): ModuleDict(\n",
       "                  (default): Linear(in_features=1, out_features=7680, bias=False)\n",
       "                )\n",
       "                (lora_embedding_A): ParameterDict()\n",
       "                (lora_embedding_B): ParameterDict()\n",
       "              )\n",
       "              (c_proj): Linear4bit(in_features=2560, out_features=2560, bias=True)\n",
       "              (attn_dropout): Dropout(p=0.0, inplace=False)\n",
       "              (resid_dropout): Dropout(p=0.0, inplace=False)\n",
       "            )\n",
       "            (ln_2): LayerNorm((2560,), eps=1e-05, elementwise_affine=True)\n",
       "            (mlp): BTLMMLP(\n",
       "              (c_fc): Linear4bit(in_features=2560, out_features=6826, bias=True)\n",
       "              (c_fc2): Linear4bit(in_features=2560, out_features=6826, bias=True)\n",
       "              (c_proj): Linear4bit(in_features=6826, out_features=2560, bias=True)\n",
       "              (act): SwiGLUActivation()\n",
       "              (dropout): Dropout(p=0.0, inplace=False)\n",
       "            )\n",
       "          )\n",
       "        )\n",
       "        (ln_f): LayerNorm((2560,), eps=1e-05, elementwise_affine=True)\n",
       "        (relative_pe): AlibiPositionEmbeddingLayer()\n",
       "      )\n",
       "      (lm_head): Linear(in_features=2560, out_features=50257, bias=False)\n",
       "    )\n",
       "  )\n",
       ")"
      ]
     },
     "execution_count": 9,
     "metadata": {},
     "output_type": "execute_result"
    }
   ],
   "source": [
    "model"
   ]
  },
  {
   "cell_type": "code",
   "execution_count": 10,
   "metadata": {},
   "outputs": [
    {
     "data": {
      "text/plain": [
       "'4.32.0.dev0'"
      ]
     },
     "execution_count": 10,
     "metadata": {},
     "output_type": "execute_result"
    }
   ],
   "source": [
    "import transformers\n",
    "transformers.__version__"
   ]
  },
  {
   "cell_type": "code",
   "execution_count": 11,
   "metadata": {},
   "outputs": [
    {
     "data": {
      "text/plain": [
       "'0.4.0.dev0'"
      ]
     },
     "execution_count": 11,
     "metadata": {},
     "output_type": "execute_result"
    }
   ],
   "source": [
    "import peft\n",
    "peft.__version__"
   ]
  }
 ],
 "metadata": {
  "kernelspec": {
   "display_name": "sd",
   "language": "python",
   "name": "python3"
  },
  "language_info": {
   "codemirror_mode": {
    "name": "ipython",
    "version": 3
   },
   "file_extension": ".py",
   "mimetype": "text/x-python",
   "name": "python",
   "nbconvert_exporter": "python",
   "pygments_lexer": "ipython3",
   "version": "3.11.3"
  },
  "orig_nbformat": 4
 },
 "nbformat": 4,
 "nbformat_minor": 2
}
